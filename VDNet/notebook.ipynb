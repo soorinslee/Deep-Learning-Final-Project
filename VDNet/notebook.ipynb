{
  "nbformat": 4,
  "nbformat_minor": 0,
  "metadata": {
    "colab": {
      "name": "Untitled0.ipynb",
      "provenance": [],
      "collapsed_sections": []
    },
    "kernelspec": {
      "name": "python3",
      "display_name": "Python 3"
    },
    "language_info": {
      "name": "python"
    },
    "accelerator": "GPU"
  },
  "cells": [
    {
      "cell_type": "code",
      "execution_count": null,
      "metadata": {
        "colab": {
          "base_uri": "https://localhost:8080/"
        },
        "id": "AC6pqhXEabzC",
        "outputId": "e83c04c7-005f-4a7d-8f29-2d8ad9ed35b1"
      },
      "outputs": [
        {
          "output_type": "stream",
          "name": "stdout",
          "text": [
            "Mounted at /content/gdrive\n"
          ]
        }
      ],
      "source": [
        "from google.colab import drive\n",
        "drive.mount('/content/gdrive')"
      ]
    },
    {
      "cell_type": "code",
      "source": [
        "import os\n",
        "os.chdir('gdrive/MyDrive/COMS 4995/VDNet/')"
      ],
      "metadata": {
        "id": "71__pVyZaqAL"
      },
      "execution_count": null,
      "outputs": []
    },
    {
      "cell_type": "code",
      "source": [
        "!python3 demo_test_simulation.py"
      ],
      "metadata": {
        "colab": {
          "base_uri": "https://localhost:8080/"
        },
        "id": "4ZjytDt1avn7",
        "outputId": "bdc6afc5-2c23-4958-c318-061f417fc6c8"
      },
      "execution_count": 24,
      "outputs": [
        {
          "output_type": "stream",
          "name": "stdout",
          "text": [
            "Loading the Model\n",
            "Begin Testing on CPU\n",
            "Image name: 100, PSNR=21.81, SSIM= 0.7915, time=6.1636\n",
            "<Figure size 640x480 with 3 Axes>\n"
          ]
        }
      ]
    },
    {
      "cell_type": "code",
      "source": [
        ""
      ],
      "metadata": {
        "id": "qn4mfgpgbQOI"
      },
      "execution_count": null,
      "outputs": []
    }
  ]
}